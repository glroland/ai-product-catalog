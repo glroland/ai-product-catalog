{
 "cells": [
  {
   "cell_type": "code",
   "execution_count": 1,
   "metadata": {},
   "outputs": [],
   "source": [
    "import datadotworld as dw\n",
    "import pandas as pd\n",
    "import psycopg2\n",
    "import psycopg2.extras as extras\n",
    "from psycopg2.extras import execute_values"
   ]
  },
  {
   "cell_type": "code",
   "execution_count": 2,
   "metadata": {},
   "outputs": [],
   "source": [
    "DB_NAME = \"ai_product_catalog\"\n",
    "DB_USER = \"ai_product_catalog\"\n",
    "DB_PASSWORD = \"ai_product_catalog123\"\n",
    "DB_HOST = \"127.0.0.1\"\n",
    "DB_PORT = \"5432\"\n",
    "\n",
    "CATEGORY_DESC = \"Shoes\""
   ]
  },
  {
   "cell_type": "code",
   "execution_count": 3,
   "metadata": {},
   "outputs": [
    {
     "data": {
      "text/plain": [
       "{'name': 'data-hut_product-data-from-nike',\n",
       " 'title': 'Product data from Nike',\n",
       " 'description': 'Product data from Nike to help companies and researchers conduct analysis on pricing, product, and assortment.\\n\\n---\\n{\"editor\":\"markdown\"}\\n---\\n\\n\\nProduct data from Nike from helps companies conduct competition analysis , pricing analyisis . Contact Datahut ( [https://datahut.co/](https://datahut.co/) ) for more details.\\n\\n\\u200b\\n\\nHere is the link to the competitive analysis we conducted using this data set.\\n\\n\\n@(https://blog.datahut.co/competitive-analysis-nike-vs-adidas/)\\n\\n\\n\\u200b',\n",
       " 'homepage': 'https://data.world/data-hut/product-data-from-nike',\n",
       " 'license': 'Public Domain',\n",
       " 'resources': [{'name': 'nike_2020_04_13',\n",
       "   'path': 'data/nike_2020_04_13.csv',\n",
       "   'format': 'csv',\n",
       "   'profile': 'data-resource'},\n",
       "  {'name': 'original/nike_2020_04_13.csv',\n",
       "   'path': 'original/nike_2020_04_13.csv',\n",
       "   'format': 'csv',\n",
       "   'mediatype': 'text/csv',\n",
       "   'bytes': 791480,\n",
       "   'profile': 'data-resource'}],\n",
       " 'keywords': ['webscraping', 'nike', 'productdata'],\n",
       " 'profile': 'data-package'}"
      ]
     },
     "execution_count": 3,
     "metadata": {},
     "output_type": "execute_result"
    }
   ],
   "source": [
    "product_dataset = dw.load_dataset('data-hut/product-data-from-nike')\n",
    "product_dataset.describe()\n"
   ]
  },
  {
   "cell_type": "code",
   "execution_count": 4,
   "metadata": {},
   "outputs": [
    {
     "name": "stderr",
     "output_type": "stream",
     "text": [
      "/opt/anaconda3/envs/ai-product-catalog/lib/python3.12/site-packages/datadotworld/models/dataset.py:198: FutureWarning: The argument 'infer_datetime_format' is deprecated and will be removed in a future version. A strict version of it is now the default, see https://pandas.pydata.org/pdeps/0004-consistent-to-datetime-parsing.html. You can safely remove this argument.\n",
      "  return pandas.read_csv(\n"
     ]
    },
    {
     "data": {
      "text/html": [
       "<div>\n",
       "<style scoped>\n",
       "    .dataframe tbody tr th:only-of-type {\n",
       "        vertical-align: middle;\n",
       "    }\n",
       "\n",
       "    .dataframe tbody tr th {\n",
       "        vertical-align: top;\n",
       "    }\n",
       "\n",
       "    .dataframe thead th {\n",
       "        text-align: right;\n",
       "    }\n",
       "</style>\n",
       "<table border=\"1\" class=\"dataframe\">\n",
       "  <thead>\n",
       "    <tr style=\"text-align: right;\">\n",
       "      <th></th>\n",
       "      <th>url</th>\n",
       "      <th>product_name</th>\n",
       "      <th>product_id</th>\n",
       "      <th>listing_price</th>\n",
       "      <th>sale_price</th>\n",
       "      <th>discount</th>\n",
       "      <th>brand</th>\n",
       "      <th>description</th>\n",
       "      <th>rating</th>\n",
       "      <th>reviews</th>\n",
       "      <th>images</th>\n",
       "      <th>last_visited</th>\n",
       "    </tr>\n",
       "  </thead>\n",
       "  <tbody>\n",
       "    <tr>\n",
       "      <th>0</th>\n",
       "      <td>https://www.nike.com/in/t/air-force-1-07-essen...</td>\n",
       "      <td>Nike Air Force 1 '07 Essential</td>\n",
       "      <td>CJ1646-600</td>\n",
       "      <td>0</td>\n",
       "      <td>7495</td>\n",
       "      <td>0</td>\n",
       "      <td>Nike</td>\n",
       "      <td>Let your shoe game shimmer in the Nike Air For...</td>\n",
       "      <td>0.0</td>\n",
       "      <td>0</td>\n",
       "      <td>[\"https://static.nike.com/a/images/t_PDP_1728_...</td>\n",
       "      <td>2020-04-13 15:27:56</td>\n",
       "    </tr>\n",
       "    <tr>\n",
       "      <th>1</th>\n",
       "      <td>https://www.nike.com/in/t/air-force-1-07-shoe-...</td>\n",
       "      <td>Nike Air Force 1 '07</td>\n",
       "      <td>CT4328-101</td>\n",
       "      <td>0</td>\n",
       "      <td>7495</td>\n",
       "      <td>0</td>\n",
       "      <td>Nike</td>\n",
       "      <td>The legend lives on in the Nike Air Force 1 '0...</td>\n",
       "      <td>0.0</td>\n",
       "      <td>0</td>\n",
       "      <td>[\"https://static.nike.com/a/images/t_PDP_1728_...</td>\n",
       "      <td>2020-04-13 15:27:56</td>\n",
       "    </tr>\n",
       "    <tr>\n",
       "      <th>2</th>\n",
       "      <td>https://www.nike.com/in/t/air-force-1-sage-low...</td>\n",
       "      <td>Nike Air Force 1 Sage Low LX</td>\n",
       "      <td>CI3482-200</td>\n",
       "      <td>0</td>\n",
       "      <td>9995</td>\n",
       "      <td>0</td>\n",
       "      <td>Nike</td>\n",
       "      <td>Taking both height and craft to new levels, th...</td>\n",
       "      <td>0.0</td>\n",
       "      <td>0</td>\n",
       "      <td>[\"https://static.nike.com/a/images/t_PDP_1728_...</td>\n",
       "      <td>2020-04-13 15:27:56</td>\n",
       "    </tr>\n",
       "    <tr>\n",
       "      <th>3</th>\n",
       "      <td>https://www.nike.com/in/t/air-max-dia-se-shoe-...</td>\n",
       "      <td>Nike Air Max Dia SE</td>\n",
       "      <td>CD0479-200</td>\n",
       "      <td>0</td>\n",
       "      <td>9995</td>\n",
       "      <td>0</td>\n",
       "      <td>Nike</td>\n",
       "      <td>Designed for a woman's foot, the Nike Air Max ...</td>\n",
       "      <td>0.0</td>\n",
       "      <td>0</td>\n",
       "      <td>[\"https://static.nike.com/a/images/t_PDP_1728_...</td>\n",
       "      <td>2020-04-13 15:27:57</td>\n",
       "    </tr>\n",
       "    <tr>\n",
       "      <th>4</th>\n",
       "      <td>https://www.nike.com/in/t/air-max-verona-shoe-...</td>\n",
       "      <td>Nike Air Max Verona</td>\n",
       "      <td>CZ6156-101</td>\n",
       "      <td>0</td>\n",
       "      <td>9995</td>\n",
       "      <td>0</td>\n",
       "      <td>Nike</td>\n",
       "      <td>Pass on the good vibes in the Nike Air Max Ver...</td>\n",
       "      <td>0.0</td>\n",
       "      <td>0</td>\n",
       "      <td>[\"https://static.nike.com/a/images/t_PDP_1728_...</td>\n",
       "      <td>2020-04-13 15:27:57</td>\n",
       "    </tr>\n",
       "  </tbody>\n",
       "</table>\n",
       "</div>"
      ],
      "text/plain": [
       "                                                 url  \\\n",
       "0  https://www.nike.com/in/t/air-force-1-07-essen...   \n",
       "1  https://www.nike.com/in/t/air-force-1-07-shoe-...   \n",
       "2  https://www.nike.com/in/t/air-force-1-sage-low...   \n",
       "3  https://www.nike.com/in/t/air-max-dia-se-shoe-...   \n",
       "4  https://www.nike.com/in/t/air-max-verona-shoe-...   \n",
       "\n",
       "                     product_name  product_id  listing_price  sale_price  \\\n",
       "0  Nike Air Force 1 '07 Essential  CJ1646-600              0        7495   \n",
       "1            Nike Air Force 1 '07  CT4328-101              0        7495   \n",
       "2    Nike Air Force 1 Sage Low LX  CI3482-200              0        9995   \n",
       "3             Nike Air Max Dia SE  CD0479-200              0        9995   \n",
       "4             Nike Air Max Verona  CZ6156-101              0        9995   \n",
       "\n",
       "   discount brand                                        description  rating  \\\n",
       "0         0  Nike  Let your shoe game shimmer in the Nike Air For...     0.0   \n",
       "1         0  Nike  The legend lives on in the Nike Air Force 1 '0...     0.0   \n",
       "2         0  Nike  Taking both height and craft to new levels, th...     0.0   \n",
       "3         0  Nike  Designed for a woman's foot, the Nike Air Max ...     0.0   \n",
       "4         0  Nike  Pass on the good vibes in the Nike Air Max Ver...     0.0   \n",
       "\n",
       "   reviews                                             images  \\\n",
       "0        0  [\"https://static.nike.com/a/images/t_PDP_1728_...   \n",
       "1        0  [\"https://static.nike.com/a/images/t_PDP_1728_...   \n",
       "2        0  [\"https://static.nike.com/a/images/t_PDP_1728_...   \n",
       "3        0  [\"https://static.nike.com/a/images/t_PDP_1728_...   \n",
       "4        0  [\"https://static.nike.com/a/images/t_PDP_1728_...   \n",
       "\n",
       "         last_visited  \n",
       "0 2020-04-13 15:27:56  \n",
       "1 2020-04-13 15:27:56  \n",
       "2 2020-04-13 15:27:56  \n",
       "3 2020-04-13 15:27:57  \n",
       "4 2020-04-13 15:27:57  "
      ]
     },
     "execution_count": 4,
     "metadata": {},
     "output_type": "execute_result"
    }
   ],
   "source": [
    "df = product_dataset.dataframes[\"nike_2020_04_13\"]\n",
    "df.head()\n"
   ]
  },
  {
   "cell_type": "code",
   "execution_count": 5,
   "metadata": {},
   "outputs": [
    {
     "name": "stdout",
     "output_type": "stream",
     "text": [
      "Shape = (643, 12)\n",
      "Number of unique Product IDs = 554\n",
      "Maximum Length of Product ID Column = 10\n",
      "Number of unique Brands = 1\n",
      "Maximum Length of Product Name Column = 61\n",
      "Maximum Length of Product Description Column = 532.0\n",
      "Maximum Length of Brand Column = 4\n"
     ]
    }
   ],
   "source": [
    "print (\"Shape = \" + str(df.shape))\n",
    "print (\"Number of unique Product IDs = \" + str(len(df['product_id'].drop_duplicates())))\n",
    "print (\"Maximum Length of Product ID Column = \" + str(df['product_id'].str.len().max()))\n",
    "print (\"Number of unique Brands = \" + str(len(df['brand'].drop_duplicates())))\n",
    "print (\"Maximum Length of Product Name Column = \" + str(df['product_name'].str.len().max()))\n",
    "print (\"Maximum Length of Product Description Column = \" + str(df['description'].str.len().max()))\n",
    "print (\"Maximum Length of Brand Column = \" + str(df['brand'].str.len().max()))\n"
   ]
  },
  {
   "cell_type": "code",
   "execution_count": 6,
   "metadata": {},
   "outputs": [
    {
     "name": "stdout",
     "output_type": "stream",
     "text": [
      "Category Created.  Category_ID = 1 for Category_Name = Shoes\n"
     ]
    }
   ],
   "source": [
    "sql = \"\"\"\n",
    "        INSERT INTO categories(category_desc) VALUES (%s) RETURNING category_id;\n",
    "      \"\"\"\n",
    "\n",
    "category_id = None\n",
    "\n",
    "with psycopg2.connect(database=DB_NAME, user=DB_USER, password=DB_PASSWORD, host=DB_HOST, port=DB_PORT) as db_connection:\n",
    "  with db_connection.cursor() as c:\n",
    "      c.execute(sql, (CATEGORY_DESC,))\n",
    "\n",
    "      rows = c.fetchone()\n",
    "      if rows:\n",
    "          category_id = rows[0]\n",
    "\n",
    "      db_connection.commit()\n",
    "\n",
    "print(\"Category Created.  Category_ID = \" + str(category_id) + \" for Category_Name = \" + CATEGORY_DESC)"
   ]
  },
  {
   "cell_type": "code",
   "execution_count": 7,
   "metadata": {},
   "outputs": [
    {
     "name": "stdout",
     "output_type": "stream",
     "text": [
      "(1, 1)\n"
     ]
    },
    {
     "data": {
      "text/html": [
       "<div>\n",
       "<style scoped>\n",
       "    .dataframe tbody tr th:only-of-type {\n",
       "        vertical-align: middle;\n",
       "    }\n",
       "\n",
       "    .dataframe tbody tr th {\n",
       "        vertical-align: top;\n",
       "    }\n",
       "\n",
       "    .dataframe thead th {\n",
       "        text-align: right;\n",
       "    }\n",
       "</style>\n",
       "<table border=\"1\" class=\"dataframe\">\n",
       "  <thead>\n",
       "    <tr style=\"text-align: right;\">\n",
       "      <th></th>\n",
       "      <th>Brand</th>\n",
       "    </tr>\n",
       "  </thead>\n",
       "  <tbody>\n",
       "    <tr>\n",
       "      <th>0</th>\n",
       "      <td>Nike</td>\n",
       "    </tr>\n",
       "  </tbody>\n",
       "</table>\n",
       "</div>"
      ],
      "text/plain": [
       "  Brand\n",
       "0  Nike"
      ]
     },
     "execution_count": 7,
     "metadata": {},
     "output_type": "execute_result"
    }
   ],
   "source": [
    "brandsDF = pd.DataFrame({ \"Brand\": df['brand'].drop_duplicates() })\n",
    "print(brandsDF.shape)\n",
    "brandsDF.head()"
   ]
  },
  {
   "cell_type": "code",
   "execution_count": 8,
   "metadata": {},
   "outputs": [],
   "source": [
    "with psycopg2.connect(database=DB_NAME, user=DB_USER, password=DB_PASSWORD, host=DB_HOST, port=DB_PORT) as db_connection:\n",
    "  with db_connection.cursor() as c:\n",
    "      execute_values(\n",
    "          cur = c,\n",
    "          sql = \"\"\"\n",
    "                  INSERT INTO brands(brand_desc) VALUES %s\n",
    "                \"\"\",\n",
    "          argslist = brandsDF.to_dict(orient=\"records\"),\n",
    "          template = \"\"\"\n",
    "                          ( %(Brand)s )\n",
    "                    \"\"\"\n",
    "      )"
   ]
  },
  {
   "cell_type": "code",
   "execution_count": 9,
   "metadata": {},
   "outputs": [
    {
     "data": {
      "text/plain": [
       "0       74.95\n",
       "1       74.95\n",
       "2       99.95\n",
       "3       99.95\n",
       "4       99.95\n",
       "        ...  \n",
       "638    127.97\n",
       "639     34.97\n",
       "640     59.47\n",
       "641    169.95\n",
       "642     62.97\n",
       "Name: MRPFloat, Length: 643, dtype: float64"
      ]
     },
     "execution_count": 9,
     "metadata": {},
     "output_type": "execute_result"
    }
   ],
   "source": [
    "df['MRPFloat'] = df['sale_price'].astype('float') / 100.0\n",
    "df['MRPFloat']"
   ]
  },
  {
   "cell_type": "code",
   "execution_count": 10,
   "metadata": {},
   "outputs": [],
   "source": [
    "with psycopg2.connect(database=DB_NAME, user=DB_USER, password=DB_PASSWORD, host=DB_HOST, port=DB_PORT) as db_connection:\n",
    "  with db_connection.cursor() as c:\n",
    "      execute_values(\n",
    "          cur = c,\n",
    "          sql = \"\"\"\n",
    "                  INSERT INTO products\n",
    "                  (\n",
    "                    sku, \n",
    "                    brand_id,\n",
    "                    product_name,\n",
    "                    product_desc,\n",
    "                    size,\n",
    "                    msrp,\n",
    "                    category_id\n",
    "                  ) VALUES %s\n",
    "                \"\"\",\n",
    "          argslist = df.to_dict(orient=\"records\"),\n",
    "          template = f\"\"\"\n",
    "                        (\n",
    "                            %(product_id)s,\n",
    "                            (select brand_id from brands where brand_desc=%(brand)s),\n",
    "                            %(product_name)s,\n",
    "                            %(description)s,\n",
    "                            null,\n",
    "                            cast(%(MRPFloat)s as double precision),\n",
    "                            {category_id}\n",
    "                        )\n",
    "                    \"\"\"\n",
    "      )"
   ]
  },
  {
   "cell_type": "code",
   "execution_count": null,
   "metadata": {},
   "outputs": [],
   "source": []
  }
 ],
 "metadata": {
  "kernelspec": {
   "display_name": "ai-product-catalog-service",
   "language": "python",
   "name": "python3"
  },
  "language_info": {
   "codemirror_mode": {
    "name": "ipython",
    "version": 3
   },
   "file_extension": ".py",
   "mimetype": "text/x-python",
   "name": "python",
   "nbconvert_exporter": "python",
   "pygments_lexer": "ipython3",
   "version": "3.12.4"
  }
 },
 "nbformat": 4,
 "nbformat_minor": 2
}
