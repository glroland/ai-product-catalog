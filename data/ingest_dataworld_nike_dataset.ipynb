{
 "cells": [
  {
   "cell_type": "code",
   "execution_count": 11,
   "metadata": {},
   "outputs": [],
   "source": [
    "import datadotworld as dw\n",
    "import pandas as pd\n",
    "import psycopg\n",
    "import openai"
   ]
  },
  {
   "cell_type": "code",
   "execution_count": 12,
   "metadata": {},
   "outputs": [],
   "source": [
    "DB_NAME = \"ai_product_catalog\"\n",
    "DB_USER = \"ai_product_catalog\"\n",
    "DB_PASSWORD = \"ai_product_catalog123\"\n",
    "DB_HOST = \"127.0.0.1\"\n",
    "DB_PORT = \"5432\"\n",
    "DB_CONNECTION_STRING = f\"host={DB_HOST} port={DB_PORT} dbname={DB_NAME} user={DB_USER} password={DB_PASSWORD}\"\n",
    "\n",
    "CATEGORY_DESC = \"Shoes\"\n",
    "\n",
    "PROVIDER_OPENAI = \"openai\"\n",
    "PROVIDER_OPENAI_EMBEDDINGS_MODEL = \"text-embedding-ada-002\""
   ]
  },
  {
   "cell_type": "code",
   "execution_count": 13,
   "metadata": {},
   "outputs": [
    {
     "data": {
      "text/plain": [
       "{'name': 'data-hut_product-data-from-nike',\n",
       " 'title': 'Product data from Nike',\n",
       " 'description': 'Product data from Nike to help companies and researchers conduct analysis on pricing, product, and assortment.\\n\\n---\\n{\"editor\":\"markdown\"}\\n---\\n\\n\\nProduct data from Nike from helps companies conduct competition analysis , pricing analyisis . Contact Datahut ( [https://datahut.co/](https://datahut.co/) ) for more details.\\n\\n\\u200b\\n\\nHere is the link to the competitive analysis we conducted using this data set.\\n\\n\\n@(https://blog.datahut.co/competitive-analysis-nike-vs-adidas/)\\n\\n\\n\\u200b',\n",
       " 'homepage': 'https://data.world/data-hut/product-data-from-nike',\n",
       " 'license': 'Public Domain',\n",
       " 'resources': [{'name': 'nike_2020_04_13',\n",
       "   'path': 'data/nike_2020_04_13.csv',\n",
       "   'format': 'csv',\n",
       "   'profile': 'data-resource'},\n",
       "  {'name': 'original/nike_2020_04_13.csv',\n",
       "   'path': 'original/nike_2020_04_13.csv',\n",
       "   'format': 'csv',\n",
       "   'mediatype': 'text/csv',\n",
       "   'bytes': 791480,\n",
       "   'profile': 'data-resource'}],\n",
       " 'keywords': ['webscraping', 'nike', 'productdata'],\n",
       " 'profile': 'data-package'}"
      ]
     },
     "execution_count": 13,
     "metadata": {},
     "output_type": "execute_result"
    }
   ],
   "source": [
    "product_dataset = dw.load_dataset('data-hut/product-data-from-nike')\n",
    "product_dataset.describe()"
   ]
  },
  {
   "cell_type": "code",
   "execution_count": 14,
   "metadata": {},
   "outputs": [
    {
     "name": "stderr",
     "output_type": "stream",
     "text": [
      "/opt/anaconda3/envs/ai-product-catalog/lib/python3.12/site-packages/datadotworld/models/dataset.py:198: FutureWarning: The argument 'infer_datetime_format' is deprecated and will be removed in a future version. A strict version of it is now the default, see https://pandas.pydata.org/pdeps/0004-consistent-to-datetime-parsing.html. You can safely remove this argument.\n",
      "  return pandas.read_csv(\n"
     ]
    },
    {
     "data": {
      "text/html": [
       "<div>\n",
       "<style scoped>\n",
       "    .dataframe tbody tr th:only-of-type {\n",
       "        vertical-align: middle;\n",
       "    }\n",
       "\n",
       "    .dataframe tbody tr th {\n",
       "        vertical-align: top;\n",
       "    }\n",
       "\n",
       "    .dataframe thead th {\n",
       "        text-align: right;\n",
       "    }\n",
       "</style>\n",
       "<table border=\"1\" class=\"dataframe\">\n",
       "  <thead>\n",
       "    <tr style=\"text-align: right;\">\n",
       "      <th></th>\n",
       "      <th>url</th>\n",
       "      <th>product_name</th>\n",
       "      <th>product_id</th>\n",
       "      <th>listing_price</th>\n",
       "      <th>sale_price</th>\n",
       "      <th>discount</th>\n",
       "      <th>brand</th>\n",
       "      <th>description</th>\n",
       "      <th>rating</th>\n",
       "      <th>reviews</th>\n",
       "      <th>images</th>\n",
       "      <th>last_visited</th>\n",
       "    </tr>\n",
       "  </thead>\n",
       "  <tbody>\n",
       "    <tr>\n",
       "      <th>0</th>\n",
       "      <td>https://www.nike.com/in/t/air-force-1-07-essen...</td>\n",
       "      <td>Nike Air Force 1 '07 Essential</td>\n",
       "      <td>CJ1646-600</td>\n",
       "      <td>0</td>\n",
       "      <td>7495</td>\n",
       "      <td>0</td>\n",
       "      <td>Nike</td>\n",
       "      <td>Let your shoe game shimmer in the Nike Air For...</td>\n",
       "      <td>0.0</td>\n",
       "      <td>0</td>\n",
       "      <td>[\"https://static.nike.com/a/images/t_PDP_1728_...</td>\n",
       "      <td>2020-04-13 15:27:56</td>\n",
       "    </tr>\n",
       "    <tr>\n",
       "      <th>1</th>\n",
       "      <td>https://www.nike.com/in/t/air-force-1-07-shoe-...</td>\n",
       "      <td>Nike Air Force 1 '07</td>\n",
       "      <td>CT4328-101</td>\n",
       "      <td>0</td>\n",
       "      <td>7495</td>\n",
       "      <td>0</td>\n",
       "      <td>Nike</td>\n",
       "      <td>The legend lives on in the Nike Air Force 1 '0...</td>\n",
       "      <td>0.0</td>\n",
       "      <td>0</td>\n",
       "      <td>[\"https://static.nike.com/a/images/t_PDP_1728_...</td>\n",
       "      <td>2020-04-13 15:27:56</td>\n",
       "    </tr>\n",
       "    <tr>\n",
       "      <th>2</th>\n",
       "      <td>https://www.nike.com/in/t/air-force-1-sage-low...</td>\n",
       "      <td>Nike Air Force 1 Sage Low LX</td>\n",
       "      <td>CI3482-200</td>\n",
       "      <td>0</td>\n",
       "      <td>9995</td>\n",
       "      <td>0</td>\n",
       "      <td>Nike</td>\n",
       "      <td>Taking both height and craft to new levels, th...</td>\n",
       "      <td>0.0</td>\n",
       "      <td>0</td>\n",
       "      <td>[\"https://static.nike.com/a/images/t_PDP_1728_...</td>\n",
       "      <td>2020-04-13 15:27:56</td>\n",
       "    </tr>\n",
       "    <tr>\n",
       "      <th>3</th>\n",
       "      <td>https://www.nike.com/in/t/air-max-dia-se-shoe-...</td>\n",
       "      <td>Nike Air Max Dia SE</td>\n",
       "      <td>CD0479-200</td>\n",
       "      <td>0</td>\n",
       "      <td>9995</td>\n",
       "      <td>0</td>\n",
       "      <td>Nike</td>\n",
       "      <td>Designed for a woman's foot, the Nike Air Max ...</td>\n",
       "      <td>0.0</td>\n",
       "      <td>0</td>\n",
       "      <td>[\"https://static.nike.com/a/images/t_PDP_1728_...</td>\n",
       "      <td>2020-04-13 15:27:57</td>\n",
       "    </tr>\n",
       "    <tr>\n",
       "      <th>4</th>\n",
       "      <td>https://www.nike.com/in/t/air-max-verona-shoe-...</td>\n",
       "      <td>Nike Air Max Verona</td>\n",
       "      <td>CZ6156-101</td>\n",
       "      <td>0</td>\n",
       "      <td>9995</td>\n",
       "      <td>0</td>\n",
       "      <td>Nike</td>\n",
       "      <td>Pass on the good vibes in the Nike Air Max Ver...</td>\n",
       "      <td>0.0</td>\n",
       "      <td>0</td>\n",
       "      <td>[\"https://static.nike.com/a/images/t_PDP_1728_...</td>\n",
       "      <td>2020-04-13 15:27:57</td>\n",
       "    </tr>\n",
       "  </tbody>\n",
       "</table>\n",
       "</div>"
      ],
      "text/plain": [
       "                                                 url  \\\n",
       "0  https://www.nike.com/in/t/air-force-1-07-essen...   \n",
       "1  https://www.nike.com/in/t/air-force-1-07-shoe-...   \n",
       "2  https://www.nike.com/in/t/air-force-1-sage-low...   \n",
       "3  https://www.nike.com/in/t/air-max-dia-se-shoe-...   \n",
       "4  https://www.nike.com/in/t/air-max-verona-shoe-...   \n",
       "\n",
       "                     product_name  product_id  listing_price  sale_price  \\\n",
       "0  Nike Air Force 1 '07 Essential  CJ1646-600              0        7495   \n",
       "1            Nike Air Force 1 '07  CT4328-101              0        7495   \n",
       "2    Nike Air Force 1 Sage Low LX  CI3482-200              0        9995   \n",
       "3             Nike Air Max Dia SE  CD0479-200              0        9995   \n",
       "4             Nike Air Max Verona  CZ6156-101              0        9995   \n",
       "\n",
       "   discount brand                                        description  rating  \\\n",
       "0         0  Nike  Let your shoe game shimmer in the Nike Air For...     0.0   \n",
       "1         0  Nike  The legend lives on in the Nike Air Force 1 '0...     0.0   \n",
       "2         0  Nike  Taking both height and craft to new levels, th...     0.0   \n",
       "3         0  Nike  Designed for a woman's foot, the Nike Air Max ...     0.0   \n",
       "4         0  Nike  Pass on the good vibes in the Nike Air Max Ver...     0.0   \n",
       "\n",
       "   reviews                                             images  \\\n",
       "0        0  [\"https://static.nike.com/a/images/t_PDP_1728_...   \n",
       "1        0  [\"https://static.nike.com/a/images/t_PDP_1728_...   \n",
       "2        0  [\"https://static.nike.com/a/images/t_PDP_1728_...   \n",
       "3        0  [\"https://static.nike.com/a/images/t_PDP_1728_...   \n",
       "4        0  [\"https://static.nike.com/a/images/t_PDP_1728_...   \n",
       "\n",
       "         last_visited  \n",
       "0 2020-04-13 15:27:56  \n",
       "1 2020-04-13 15:27:56  \n",
       "2 2020-04-13 15:27:56  \n",
       "3 2020-04-13 15:27:57  \n",
       "4 2020-04-13 15:27:57  "
      ]
     },
     "execution_count": 14,
     "metadata": {},
     "output_type": "execute_result"
    }
   ],
   "source": [
    "df = product_dataset.dataframes[\"nike_2020_04_13\"]\n",
    "df.head()"
   ]
  },
  {
   "cell_type": "code",
   "execution_count": 15,
   "metadata": {},
   "outputs": [
    {
     "name": "stdout",
     "output_type": "stream",
     "text": [
      "Shape = (643, 12)\n",
      "Number of unique Product IDs = 554\n",
      "Maximum Length of Product ID Column = 10\n",
      "Number of unique Brands = 1\n",
      "Maximum Length of Product Name Column = 61\n",
      "Maximum Length of Product Description Column = 532.0\n",
      "Maximum Length of Brand Column = 4\n"
     ]
    }
   ],
   "source": [
    "print (\"Shape = \" + str(df.shape))\n",
    "print (\"Number of unique Product IDs = \" + str(len(df['product_id'].drop_duplicates())))\n",
    "print (\"Maximum Length of Product ID Column = \" + str(df['product_id'].str.len().max()))\n",
    "print (\"Number of unique Brands = \" + str(len(df['brand'].drop_duplicates())))\n",
    "print (\"Maximum Length of Product Name Column = \" + str(df['product_name'].str.len().max()))\n",
    "print (\"Maximum Length of Product Description Column = \" + str(df['description'].str.len().max()))\n",
    "print (\"Maximum Length of Brand Column = \" + str(df['brand'].str.len().max()))\n"
   ]
  },
  {
   "cell_type": "code",
   "execution_count": 22,
   "metadata": {},
   "outputs": [
    {
     "name": "stdout",
     "output_type": "stream",
     "text": [
      "Category Created.  Category_ID = 7 for Category_Name = Shoes\n"
     ]
    }
   ],
   "source": [
    "category_id = None\n",
    "\n",
    "with psycopg.connect(DB_CONNECTION_STRING) as db_connection:\n",
    "  with db_connection.cursor() as c:\n",
    "      c.execute(\n",
    "          \"\"\"\n",
    "              INSERT INTO categories(category_desc) VALUES (%s) RETURNING category_id;\n",
    "          \"\"\", \n",
    "          (CATEGORY_DESC,))\n",
    "\n",
    "      rows = c.fetchone()\n",
    "      if rows:\n",
    "          category_id = rows[0]\n",
    "\n",
    "      db_connection.commit()\n",
    "\n",
    "if category_id == None:\n",
    "  print (\"Issue with category creation.  Was not created.\")\n",
    "else:\n",
    "  print (\"Category Created.  Category_ID = \" + str(category_id) + \" for Category_Name = \" + CATEGORY_DESC)"
   ]
  },
  {
   "cell_type": "code",
   "execution_count": 30,
   "metadata": {},
   "outputs": [
    {
     "name": "stdout",
     "output_type": "stream",
     "text": [
      "(1, 1)\n"
     ]
    },
    {
     "data": {
      "text/html": [
       "<div>\n",
       "<style scoped>\n",
       "    .dataframe tbody tr th:only-of-type {\n",
       "        vertical-align: middle;\n",
       "    }\n",
       "\n",
       "    .dataframe tbody tr th {\n",
       "        vertical-align: top;\n",
       "    }\n",
       "\n",
       "    .dataframe thead th {\n",
       "        text-align: right;\n",
       "    }\n",
       "</style>\n",
       "<table border=\"1\" class=\"dataframe\">\n",
       "  <thead>\n",
       "    <tr style=\"text-align: right;\">\n",
       "      <th></th>\n",
       "      <th>Brand</th>\n",
       "    </tr>\n",
       "  </thead>\n",
       "  <tbody>\n",
       "    <tr>\n",
       "      <th>0</th>\n",
       "      <td>Nike</td>\n",
       "    </tr>\n",
       "  </tbody>\n",
       "</table>\n",
       "</div>"
      ],
      "text/plain": [
       "  Brand\n",
       "0  Nike"
      ]
     },
     "execution_count": 30,
     "metadata": {},
     "output_type": "execute_result"
    }
   ],
   "source": [
    "brandsDF = pd.DataFrame({ \"Brand\": df['brand'].drop_duplicates() })\n",
    "print(brandsDF.shape)\n",
    "brandsDF.head()"
   ]
  },
  {
   "cell_type": "code",
   "execution_count": 38,
   "metadata": {},
   "outputs": [],
   "source": [
    "with psycopg.connect(DB_CONNECTION_STRING) as db_connection:\n",
    "  with db_connection.cursor() as c:\n",
    "    c.executemany(\n",
    "          \"\"\"\n",
    "              INSERT INTO brands ( brand_desc ) \n",
    "              VALUES ( %(Brand)s )\n",
    "              RETURNING brand_id\n",
    "          \"\"\",\n",
    "        brandsDF.to_dict(orient=\"records\")\n",
    "    )"
   ]
  },
  {
   "cell_type": "code",
   "execution_count": 39,
   "metadata": {},
   "outputs": [
    {
     "data": {
      "text/plain": [
       "0       74.95\n",
       "1       74.95\n",
       "2       99.95\n",
       "3       99.95\n",
       "4       99.95\n",
       "        ...  \n",
       "638    127.97\n",
       "639     34.97\n",
       "640     59.47\n",
       "641    169.95\n",
       "642     62.97\n",
       "Name: msrp, Length: 643, dtype: float64"
      ]
     },
     "execution_count": 39,
     "metadata": {},
     "output_type": "execute_result"
    }
   ],
   "source": [
    "df['msrp'] = df['sale_price'].astype('float') / 100.0\n",
    "df['msrp']"
   ]
  },
  {
   "cell_type": "code",
   "execution_count": 44,
   "metadata": {},
   "outputs": [
    {
     "ename": "ProgrammingError",
     "evalue": "no result available",
     "output_type": "error",
     "traceback": [
      "\u001b[0;31m---------------------------------------------------------------------------\u001b[0m",
      "\u001b[0;31mProgrammingError\u001b[0m                          Traceback (most recent call last)",
      "Cell \u001b[0;32mIn[44], line 30\u001b[0m\n\u001b[1;32m      2\u001b[0m \u001b[38;5;28;01mwith\u001b[39;00m db_connection\u001b[38;5;241m.\u001b[39mcursor() \u001b[38;5;28;01mas\u001b[39;00m c:\n\u001b[1;32m      3\u001b[0m   c\u001b[38;5;241m.\u001b[39mexecutemany(\n\u001b[1;32m      4\u001b[0m      \u001b[38;5;124mf\u001b[39m\u001b[38;5;124m\"\"\"\u001b[39m\n\u001b[1;32m      5\u001b[0m \u001b[38;5;124m          INSERT INTO products\u001b[39m\n\u001b[0;32m   (...)\u001b[0m\n\u001b[1;32m     27\u001b[0m       df\u001b[38;5;241m.\u001b[39mto_dict(orient\u001b[38;5;241m=\u001b[39m\u001b[38;5;124m\"\u001b[39m\u001b[38;5;124mrecords\u001b[39m\u001b[38;5;124m\"\u001b[39m)\n\u001b[1;32m     28\u001b[0m   )\n\u001b[0;32m---> 30\u001b[0m   productIds \u001b[38;5;241m=\u001b[39m \u001b[43mc\u001b[49m\u001b[38;5;241;43m.\u001b[39;49m\u001b[43mfetchall\u001b[49m\u001b[43m(\u001b[49m\u001b[43m)\u001b[49m\n\u001b[1;32m     31\u001b[0m   \u001b[38;5;28mprint\u001b[39m(productIds)\n",
      "File \u001b[0;32m/opt/anaconda3/envs/ai-product-catalog/lib/python3.12/site-packages/psycopg/cursor.py:223\u001b[0m, in \u001b[0;36mCursor.fetchall\u001b[0;34m(self)\u001b[0m\n\u001b[1;32m    217\u001b[0m \u001b[38;5;250m\u001b[39m\u001b[38;5;124;03m\"\"\"\u001b[39;00m\n\u001b[1;32m    218\u001b[0m \u001b[38;5;124;03mReturn all the remaining records from the current recordset.\u001b[39;00m\n\u001b[1;32m    219\u001b[0m \n\u001b[1;32m    220\u001b[0m \u001b[38;5;124;03m:rtype: Sequence[Row], with Row defined by `row_factory`\u001b[39;00m\n\u001b[1;32m    221\u001b[0m \u001b[38;5;124;03m\"\"\"\u001b[39;00m\n\u001b[1;32m    222\u001b[0m \u001b[38;5;28mself\u001b[39m\u001b[38;5;241m.\u001b[39m_fetch_pipeline()\n\u001b[0;32m--> 223\u001b[0m \u001b[38;5;28;43mself\u001b[39;49m\u001b[38;5;241;43m.\u001b[39;49m\u001b[43m_check_result_for_fetch\u001b[49m\u001b[43m(\u001b[49m\u001b[43m)\u001b[49m\n\u001b[1;32m    224\u001b[0m \u001b[38;5;28;01massert\u001b[39;00m \u001b[38;5;28mself\u001b[39m\u001b[38;5;241m.\u001b[39mpgresult\n\u001b[1;32m    225\u001b[0m records \u001b[38;5;241m=\u001b[39m \u001b[38;5;28mself\u001b[39m\u001b[38;5;241m.\u001b[39m_tx\u001b[38;5;241m.\u001b[39mload_rows(\u001b[38;5;28mself\u001b[39m\u001b[38;5;241m.\u001b[39m_pos, \u001b[38;5;28mself\u001b[39m\u001b[38;5;241m.\u001b[39mpgresult\u001b[38;5;241m.\u001b[39mntuples, \u001b[38;5;28mself\u001b[39m\u001b[38;5;241m.\u001b[39m_make_row)\n",
      "File \u001b[0;32m/opt/anaconda3/envs/ai-product-catalog/lib/python3.12/site-packages/psycopg/_cursor_base.py:578\u001b[0m, in \u001b[0;36mBaseCursor._check_result_for_fetch\u001b[0;34m(self)\u001b[0m\n\u001b[1;32m    576\u001b[0m res \u001b[38;5;241m=\u001b[39m \u001b[38;5;28mself\u001b[39m\u001b[38;5;241m.\u001b[39mpgresult\n\u001b[1;32m    577\u001b[0m \u001b[38;5;28;01mif\u001b[39;00m \u001b[38;5;129;01mnot\u001b[39;00m res:\n\u001b[0;32m--> 578\u001b[0m     \u001b[38;5;28;01mraise\u001b[39;00m e\u001b[38;5;241m.\u001b[39mProgrammingError(\u001b[38;5;124m\"\u001b[39m\u001b[38;5;124mno result available\u001b[39m\u001b[38;5;124m\"\u001b[39m)\n\u001b[1;32m    580\u001b[0m status \u001b[38;5;241m=\u001b[39m res\u001b[38;5;241m.\u001b[39mstatus\n\u001b[1;32m    581\u001b[0m \u001b[38;5;28;01mif\u001b[39;00m status \u001b[38;5;241m==\u001b[39m TUPLES_OK:\n",
      "\u001b[0;31mProgrammingError\u001b[0m: no result available"
     ]
    }
   ],
   "source": [
    "with psycopg.connect(DB_CONNECTION_STRING) as db_connection:\n",
    "  with db_connection.cursor() as c:\n",
    "    c.executemany(\n",
    "       f\"\"\"\n",
    "            INSERT INTO products\n",
    "            (\n",
    "                sku, \n",
    "                brand_id,\n",
    "                product_name,\n",
    "                product_desc,\n",
    "                size,\n",
    "                msrp,\n",
    "                category_id\n",
    "            ) \n",
    "            VALUES \n",
    "            (\n",
    "                  %(product_id)s,\n",
    "                  (select brand_id from brands where brand_desc=%(brand)s fetch first 1 rows only),\n",
    "                  %(product_name)s,\n",
    "                  %(description)s,\n",
    "                  null,\n",
    "                  cast(%(msrp)s as double precision),\n",
    "                  {category_id}\n",
    "            )\n",
    "            RETURNING product_id\n",
    "        \"\"\",\n",
    "        df.to_dict(orient=\"records\")\n",
    "    )\n",
    "      \n",
    "    productIds = c.fetchall()\n",
    "    productIds\n"
   ]
  },
  {
   "cell_type": "code",
   "execution_count": null,
   "metadata": {},
   "outputs": [],
   "source": [
    "def get_embedding_from_db(productName, sku, price, brand, description, model):\n",
    "    productName = productName.replace(\"'\", \"''\")\n",
    "    \n",
    "    cleansedDescription = None\n",
    "    if description != None and type(description) != float:\n",
    "        cleansedDescription = description.replace(\"\\n\", \" \").replace(\"'\", \"''\")\n",
    "\n",
    "    with psycopg.connect(DB_CONNECTION_STRING) as db_connection:\n",
    "        with db_connection.cursor() as c:\n",
    "            sql = f\"\"\"\n",
    "                            select embedding\n",
    "                            from product_embeddings\n",
    "                            where model = '{model}'\n",
    "                              and engine = '{PROVIDER_OPENAI}'\n",
    "                              and product_id = \n",
    "                                (\n",
    "                                    select product_id \n",
    "                                    from products \n",
    "                                    where product_name='{productName}'\n",
    "                                      and sku='{sku}'\n",
    "                                      and brand_id=(select brand_id from brands where brand_desc='{brand}')\n",
    "                                      and product_desc\"\"\"\n",
    "            if cleansedDescription != None:\n",
    "              sql = sql + f\"='{cleansedDescription}'\"\n",
    "            else:\n",
    "              sql = sql + \" is null\"\n",
    "            sql = sql + f\"\"\"\n",
    "                                )\n",
    "                      \"\"\"\n",
    "            print(sql)\n",
    "            \n",
    "            c.execute(sql)\n",
    "            record = c.fetchone()\n",
    "\n",
    "            if record == None:\n",
    "                  return None\n",
    "            \n",
    "            return record[0]"
   ]
  },
  {
   "cell_type": "code",
   "execution_count": null,
   "metadata": {},
   "outputs": [],
   "source": [
    "client = openai.OpenAI()\n",
    "\n",
    "counter = 0\n",
    "\n",
    "def create_embedding(productName, sku, price, brand, description, model):\n",
    "   global counter\n",
    "\n",
    "   text = \"\"\"'{productName}', '{sku}', {price}, '{brand}', '{description}'\"\"\"\n",
    "   text = text.replace(\"\\n\", \" \")\n",
    "\n",
    "   embedding = get_embedding_from_db(productName, sku, price, brand, description, model)\n",
    "   \n",
    "   if embedding != None:\n",
    "      return None\n",
    "\n",
    "   counter = counter + 1\n",
    "   if counter > 1:\n",
    "      return None\n",
    "\n",
    "   return client.embeddings.create(input = [text], model=model).data[0].embedding\n",
    "\n",
    "df['embeddingToStore'] = df.apply(lambda row: create_embedding(row[\"product_name\"], row[\"product_id\"], row[\"MRPFloat\"], row[\"brand\"], row[\"description\"], model=PROVIDER_OPENAI_EMBEDDINGS_MODEL), axis=1)"
   ]
  },
  {
   "cell_type": "code",
   "execution_count": null,
   "metadata": {},
   "outputs": [],
   "source": [
    "embeddingsDF = df[df['embeddingToStore'].notnull()]\n",
    "print(\"Shape:\", embeddingsDF.shape)\n",
    "print (\"Vector Length:\", str(len(embeddingsDF[\"embeddingToStore\"][0])))\n",
    "embeddingsDF.head()"
   ]
  },
  {
   "cell_type": "code",
   "execution_count": null,
   "metadata": {},
   "outputs": [],
   "source": [
    "with psycopg.connect(DB_CONNECTION_STRING) as db_connection:\n",
    "  with db_connection.cursor() as c:\n",
    "      c.executemany(\n",
    "          f\"\"\"\n",
    "              INSERT INTO product_embeddings\n",
    "              (\n",
    "                product_id,\n",
    "                engine,\n",
    "                model,\n",
    "                embedding\n",
    "              ) \n",
    "              VALUES\n",
    "              (\n",
    "                  (\n",
    "                      select product_id \n",
    "                      from products \n",
    "                      where product_name=%(product_name)s\n",
    "                        and sku=%(product_id)s\n",
    "                        and brand_id=(select brand_id from brands where brand_desc=%(brand)s)\n",
    "                        and product_desc=%(description)s\n",
    "                  ),\n",
    "                  '{PROVIDER_OPENAI}',\n",
    "                  '{PROVIDER_OPENAI_EMBEDDINGS_MODEL}',\n",
    "                  %(embedding)s\n",
    "              )\n",
    "          \"\"\",\n",
    "          embeddingsDF.to_dict(orient=\"records\"),\n",
    "      )"
   ]
  },
  {
   "cell_type": "code",
   "execution_count": null,
   "metadata": {},
   "outputs": [],
   "source": []
  }
 ],
 "metadata": {
  "kernelspec": {
   "display_name": "ai-product-catalog-service",
   "language": "python",
   "name": "python3"
  },
  "language_info": {
   "codemirror_mode": {
    "name": "ipython",
    "version": 3
   },
   "file_extension": ".py",
   "mimetype": "text/x-python",
   "name": "python",
   "nbconvert_exporter": "python",
   "pygments_lexer": "ipython3",
   "version": "3.12.4"
  }
 },
 "nbformat": 4,
 "nbformat_minor": 2
}
