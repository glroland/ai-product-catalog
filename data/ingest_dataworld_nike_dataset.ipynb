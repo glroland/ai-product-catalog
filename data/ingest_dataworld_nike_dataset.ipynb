{
 "cells": [
  {
   "cell_type": "code",
   "execution_count": null,
   "metadata": {},
   "outputs": [],
   "source": [
    "import datadotworld as dw\n",
    "import pandas as pd\n",
    "import os\n",
    "\n",
    "import ProductDataLib\n"
   ]
  },
  {
   "cell_type": "code",
   "execution_count": null,
   "metadata": {},
   "outputs": [],
   "source": [
    "DB_CONNECTION_STRING = f\"host=127.0.0.1 port=5432 dbname=ai_product_catalog user=ai_product_catalog password=ai_product_catalog123\"\n",
    "\n",
    "DATASET_NAME = 'data-hut/product-data-from-nike'\n",
    "\n",
    "CATEGORY_DESC = \"Shoes\"\n",
    "\n",
    "SENTENCE_TRANSFORMER_MODEL = \"sentence-transformers/all-MiniLM-L6-v2\""
   ]
  },
  {
   "cell_type": "code",
   "execution_count": null,
   "metadata": {},
   "outputs": [],
   "source": [
    "product_dataset = dw.load_dataset(DATASET_NAME)\n",
    "product_dataset.describe()"
   ]
  },
  {
   "cell_type": "code",
   "execution_count": null,
   "metadata": {},
   "outputs": [],
   "source": [
    "df = product_dataset.dataframes[\"nike_2020_04_13\"]\n",
    "df = df.drop_duplicates()\n",
    "print (df.shape)\n",
    "df.head()"
   ]
  },
  {
   "cell_type": "code",
   "execution_count": null,
   "metadata": {},
   "outputs": [],
   "source": [
    "print (\"Shape = \" + str(df.shape))\n",
    "print (\"Number of unique Product IDs = \" + str(len(df['product_id'].drop_duplicates())))\n",
    "print (\"Maximum Length of Product ID Column = \" + str(df['product_id'].str.len().max()))\n",
    "print (\"Number of unique Brands = \" + str(len(df['brand'].drop_duplicates())))\n",
    "print (\"Maximum Length of Product Name Column = \" + str(df['product_name'].str.len().max()))\n",
    "print (\"Maximum Length of Product Description Column = \" + str(df['description'].str.len().max()))\n",
    "print (\"Maximum Length of Brand Column = \" + str(df['brand'].str.len().max()))"
   ]
  },
  {
   "cell_type": "code",
   "execution_count": null,
   "metadata": {},
   "outputs": [],
   "source": [
    "df['msrp'] = df['sale_price'].astype('float') / 100.0\n",
    "df['msrp']"
   ]
  },
  {
   "cell_type": "code",
   "execution_count": null,
   "metadata": {},
   "outputs": [],
   "source": [
    "df[\"category\"] = CATEGORY_DESC\n",
    "\n",
    "df[\"description\"].fillna('', inplace=True)"
   ]
  },
  {
   "cell_type": "code",
   "execution_count": null,
   "metadata": {},
   "outputs": [],
   "source": [
    "productDataSet = ProductDataLib.ProductDataSet(DATASET_NAME, \n",
    "                                               DB_CONNECTION_STRING,\n",
    "                                               SENTENCE_TRANSFORMER_MODEL)\n",
    "\n",
    "resultDF = productDataSet.import_df(df,\n",
    "                    {\n",
    "                        \"product_id\": productDataSet.ProductColumns.SKU, \n",
    "                        \"msrp\": productDataSet.ProductColumns.PRICE,\n",
    "                        \"brand\": productDataSet.ProductColumns.BRAND_DESC,\n",
    "                        \"category\": productDataSet.ProductColumns.CATEGORY_DESC,\n",
    "                        \"product_name\": productDataSet.ProductColumns.NAME,\n",
    "                        \"description\": productDataSet.ProductColumns.DESC\n",
    "                    }\n",
    "                )\n",
    "productDataSet.persist()\n",
    "productDataSet.load_embeddings()\n",
    "productDataSet.refresh_embeddings()\n",
    "productDataSet.persist_embeddings()\n",
    "\n",
    "print(resultDF.head())\n"
   ]
  },
  {
   "cell_type": "code",
   "execution_count": null,
   "metadata": {},
   "outputs": [],
   "source": []
  }
 ],
 "metadata": {
  "kernelspec": {
   "display_name": "ai-product-catalog-service",
   "language": "python",
   "name": "python3"
  },
  "language_info": {
   "codemirror_mode": {
    "name": "ipython",
    "version": 3
   },
   "file_extension": ".py",
   "mimetype": "text/x-python",
   "name": "python",
   "nbconvert_exporter": "python",
   "pygments_lexer": "ipython3",
   "version": "3.12.4"
  }
 },
 "nbformat": 4,
 "nbformat_minor": 2
}
