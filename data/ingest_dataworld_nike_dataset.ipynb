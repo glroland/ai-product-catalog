{
 "cells": [
  {
   "cell_type": "code",
   "execution_count": null,
   "metadata": {},
   "outputs": [],
   "source": [
    "import datadotworld as dw\n",
    "import pandas as pd\n",
    "import os\n",
    "\n",
    "import ProductDataLib\n"
   ]
  },
  {
   "cell_type": "code",
   "execution_count": null,
   "metadata": {},
   "outputs": [],
   "source": [
    "DATASET_NAME = 'data-hut/product-data-from-nike'\n",
    "\n",
    "CATEGORY_DESC = \"Shoes\"\n",
    "\n",
    "SENTENCE_TRANSFORMER_MODEL = \"sentence-transformers/all-MiniLM-L6-v2\""
   ]
  },
  {
   "cell_type": "code",
   "execution_count": null,
   "metadata": {},
   "outputs": [],
   "source": [
    "DB_HOST = \"127.0.0.1\"\n",
    "if \"DB_HOST\" in os.environ:\n",
    "    DB_HOST = os.environ[\"DB_HOST\"]\n",
    "\n",
    "DB_PORT = \"5432\"\n",
    "if \"DB_PORT\" in os.environ:\n",
    "    DB_PORT = os.environ[\"DB_PORT\"]\n",
    "\n",
    "DB_NAME = \"ai_product_catalog\"\n",
    "if \"DB_NAME\" in os.environ:\n",
    "    DB_NAME = os.environ[\"DB_NAME\"]\n",
    "\n",
    "DB_USER = \"ai_product_catalog\"\n",
    "if \"DB_USER\" in os.environ:\n",
    "    DB_USER = os.environ[\"DB_USER\"]\n",
    "\n",
    "DB_PASSWORD = \"ai_product_catalog123\"\n",
    "if \"DB_PASSWORD\" in os.environ:\n",
    "    DB_PASSWORD = os.environ[\"DB_PASSWORD\"]\n",
    "\n",
    "DB_CONNECTION_STRING = f\"host={DB_HOST} port={DB_PORT} dbname={DB_NAME} user={DB_USER} password={DB_PASSWORD}\"\n",
    "print (\"DB_CONNECTION_STRING:\", DB_CONNECTION_STRING)"
   ]
  },
  {
   "cell_type": "code",
   "execution_count": null,
   "metadata": {},
   "outputs": [],
   "source": [
    "product_dataset = dw.load_dataset(DATASET_NAME)\n",
    "product_dataset.describe()"
   ]
  },
  {
   "cell_type": "code",
   "execution_count": null,
   "metadata": {},
   "outputs": [],
   "source": [
    "df = product_dataset.dataframes[\"nike_2020_04_13\"]\n",
    "df = df.drop_duplicates()\n",
    "print (df.shape)\n",
    "df.head()"
   ]
  },
  {
   "cell_type": "code",
   "execution_count": null,
   "metadata": {},
   "outputs": [],
   "source": [
    "print (\"Shape = \" + str(df.shape))\n",
    "print (\"Number of unique Product IDs = \" + str(len(df['product_id'].drop_duplicates())))\n",
    "print (\"Maximum Length of Product ID Column = \" + str(df['product_id'].str.len().max()))\n",
    "print (\"Number of unique Brands = \" + str(len(df['brand'].drop_duplicates())))\n",
    "print (\"Maximum Length of Product Name Column = \" + str(df['product_name'].str.len().max()))\n",
    "print (\"Maximum Length of Product Description Column = \" + str(df['description'].str.len().max()))\n",
    "print (\"Maximum Length of Brand Column = \" + str(df['brand'].str.len().max()))"
   ]
  },
  {
   "cell_type": "code",
   "execution_count": null,
   "metadata": {},
   "outputs": [],
   "source": [
    "df['msrp'] = df['sale_price'].astype('float') / 100.0\n",
    "df['msrp']"
   ]
  },
  {
   "cell_type": "code",
   "execution_count": null,
   "metadata": {},
   "outputs": [],
   "source": [
    "df[\"category\"] = CATEGORY_DESC\n",
    "\n",
    "df[\"description\"].fillna('', inplace=True)"
   ]
  },
  {
   "cell_type": "code",
   "execution_count": null,
   "metadata": {},
   "outputs": [],
   "source": [
    "productDataSet = ProductDataLib.ProductDataSet(DATASET_NAME, \n",
    "                                               DB_CONNECTION_STRING,\n",
    "                                               SENTENCE_TRANSFORMER_MODEL)\n",
    "\n",
    "resultDF = productDataSet.import_df(df,\n",
    "                    {\n",
    "                        \"product_id\": productDataSet.ProductColumns.SKU, \n",
    "                        \"msrp\": productDataSet.ProductColumns.PRICE,\n",
    "                        \"brand\": productDataSet.ProductColumns.BRAND_DESC,\n",
    "                        \"category\": productDataSet.ProductColumns.CATEGORY_DESC,\n",
    "                        \"product_name\": productDataSet.ProductColumns.NAME,\n",
    "                        \"description\": productDataSet.ProductColumns.DESC\n",
    "                    }\n",
    "                )\n",
    "productDataSet.persist()\n",
    "productDataSet.load_embeddings()\n",
    "productDataSet.refresh_embeddings()\n",
    "productDataSet.persist_embeddings()\n",
    "\n",
    "print(resultDF.head())\n"
   ]
  },
  {
   "cell_type": "code",
   "execution_count": null,
   "metadata": {},
   "outputs": [],
   "source": []
  }
 ],
 "metadata": {
  "kernelspec": {
   "display_name": "Python 3 (ipykernel)",
   "language": "python",
   "name": "python3"
  },
  "language_info": {
   "codemirror_mode": {
    "name": "ipython",
    "version": 3
   },
   "file_extension": ".py",
   "mimetype": "text/x-python",
   "name": "python",
   "nbconvert_exporter": "python",
   "pygments_lexer": "ipython3",
   "version": "3.11.7"
  }
 },
 "nbformat": 4,
 "nbformat_minor": 4
}
