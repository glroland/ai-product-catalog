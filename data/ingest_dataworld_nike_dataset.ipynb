{
 "cells": [
  {
   "cell_type": "code",
   "execution_count": null,
   "metadata": {},
   "outputs": [],
   "source": [
    "import datadotworld as dw\n",
    "import pandas as pd\n",
    "import psycopg\n",
    "import openai"
   ]
  },
  {
   "cell_type": "code",
   "execution_count": null,
   "metadata": {},
   "outputs": [],
   "source": [
    "DB_NAME = \"ai_product_catalog\"\n",
    "DB_USER = \"ai_product_catalog\"\n",
    "DB_PASSWORD = \"ai_product_catalog123\"\n",
    "DB_HOST = \"127.0.0.1\"\n",
    "DB_PORT = \"5432\"\n",
    "DB_CONNECTION_STRING = f\"host={DB_HOST} port={DB_PORT} dbname={DB_NAME} user={DB_USER} password={DB_PASSWORD}\"\n",
    "\n",
    "CATEGORY_DESC = \"Shoes\"\n",
    "\n",
    "PROVIDER_OPENAI = \"openai\"\n",
    "PROVIDER_OPENAI_EMBEDDINGS_MODEL = \"text-embedding-ada-002\""
   ]
  },
  {
   "cell_type": "code",
   "execution_count": null,
   "metadata": {},
   "outputs": [],
   "source": [
    "product_dataset = dw.load_dataset('data-hut/product-data-from-nike')\n",
    "product_dataset.describe()"
   ]
  },
  {
   "cell_type": "code",
   "execution_count": null,
   "metadata": {},
   "outputs": [],
   "source": [
    "df = product_dataset.dataframes[\"nike_2020_04_13\"]\n",
    "df.head()"
   ]
  },
  {
   "cell_type": "code",
   "execution_count": null,
   "metadata": {},
   "outputs": [],
   "source": [
    "print (\"Shape = \" + str(df.shape))\n",
    "print (\"Number of unique Product IDs = \" + str(len(df['product_id'].drop_duplicates())))\n",
    "print (\"Maximum Length of Product ID Column = \" + str(df['product_id'].str.len().max()))\n",
    "print (\"Number of unique Brands = \" + str(len(df['brand'].drop_duplicates())))\n",
    "print (\"Maximum Length of Product Name Column = \" + str(df['product_name'].str.len().max()))\n",
    "print (\"Maximum Length of Product Description Column = \" + str(df['description'].str.len().max()))\n",
    "print (\"Maximum Length of Brand Column = \" + str(df['brand'].str.len().max()))\n"
   ]
  },
  {
   "cell_type": "code",
   "execution_count": null,
   "metadata": {},
   "outputs": [],
   "source": [
    "category_id = None\n",
    "\n",
    "with psycopg.connect(DB_CONNECTION_STRING) as db_connection:\n",
    "  with db_connection.cursor() as c:\n",
    "      c.execute(\n",
    "          \"\"\"\n",
    "              INSERT INTO categories(category_desc) VALUES (%s) RETURNING category_id;\n",
    "          \"\"\", \n",
    "          (CATEGORY_DESC,))\n",
    "\n",
    "      rows = c.fetchone()\n",
    "      if rows:\n",
    "          category_id = rows[0]\n",
    "\n",
    "      db_connection.commit()\n",
    "\n",
    "if category_id == None:\n",
    "  print (\"Issue with category creation.  Was not created.\")\n",
    "else:\n",
    "  print (\"Category Created.  Category_ID = \" + str(category_id) + \" for Category_Name = \" + CATEGORY_DESC)"
   ]
  },
  {
   "cell_type": "code",
   "execution_count": null,
   "metadata": {},
   "outputs": [],
   "source": [
    "brandsDF = pd.DataFrame({ \"Brand\": df['brand'].drop_duplicates() })\n",
    "print(brandsDF.shape)\n",
    "brandsDF.head()"
   ]
  },
  {
   "cell_type": "code",
   "execution_count": null,
   "metadata": {},
   "outputs": [],
   "source": [
    "with psycopg.connect(DB_CONNECTION_STRING) as db_connection:\n",
    "  with db_connection.cursor() as c:\n",
    "    c.executemany(\n",
    "        query = \n",
    "          \"\"\"\n",
    "              INSERT INTO brands ( brand_desc ) \n",
    "              VALUES ( %(Brand)s )\n",
    "              RETURNING brand_id, brand_desc\n",
    "          \"\"\",\n",
    "        params_seq = brandsDF.to_dict(orient=\"records\"),\n",
    "        returning=True\n",
    "    )\n",
    "\n",
    "    rows = c.fetchall()\n",
    "    if rows:\n",
    "      for row in rows:\n",
    "        print (\"Inserted Brand Row.  ID =\", row[0], \"Description =\", row[1])\n",
    "    else:\n",
    "      print (\"No Brand Rows Created!\")"
   ]
  },
  {
   "cell_type": "code",
   "execution_count": null,
   "metadata": {},
   "outputs": [],
   "source": [
    "df['msrp'] = df['sale_price'].astype('float') / 100.0\n",
    "df['msrp']"
   ]
  },
  {
   "cell_type": "code",
   "execution_count": null,
   "metadata": {},
   "outputs": [],
   "source": [
    "with psycopg.connect(DB_CONNECTION_STRING) as db_connection:\n",
    "  with db_connection.cursor() as c:\n",
    "    c.executemany(\n",
    "       query = f\"\"\"\n",
    "            INSERT INTO products\n",
    "            (\n",
    "                sku, \n",
    "                brand_id,\n",
    "                product_name,\n",
    "                product_desc,\n",
    "                size,\n",
    "                msrp,\n",
    "                category_id\n",
    "            ) \n",
    "            VALUES \n",
    "            (\n",
    "                  %(product_id)s,\n",
    "                  (select brand_id from brands where brand_desc=%(brand)s fetch first 1 rows only),\n",
    "                  %(product_name)s,\n",
    "                  %(description)s,\n",
    "                  null,\n",
    "                  cast(%(msrp)s as double precision),\n",
    "                  {category_id}\n",
    "            )\n",
    "            RETURNING product_id\n",
    "        \"\"\",\n",
    "        params_seq = df.to_dict(orient=\"records\"),\n",
    "        returning = True\n",
    "    )\n",
    "      \n",
    "    productIds = c.fetchall()\n",
    "    productIds\n"
   ]
  },
  {
   "cell_type": "code",
   "execution_count": null,
   "metadata": {},
   "outputs": [],
   "source": [
    "def get_embedding_from_db(productName, sku, price, brand, description, model):\n",
    "    productName = productName.replace(\"'\", \"''\")\n",
    "    \n",
    "    cleansedDescription = None\n",
    "    if description != None and type(description) != float:\n",
    "        cleansedDescription = description.replace(\"\\n\", \" \").replace(\"'\", \"''\")\n",
    "\n",
    "    with psycopg.connect(DB_CONNECTION_STRING) as db_connection:\n",
    "        with db_connection.cursor() as c:\n",
    "            sql = f\"\"\"\n",
    "                            select embedding\n",
    "                            from product_embeddings\n",
    "                            where model = '{model}'\n",
    "                              and engine = '{PROVIDER_OPENAI}'\n",
    "                              and product_id = \n",
    "                                (\n",
    "                                    select product_id \n",
    "                                    from products \n",
    "                                    where product_name='{productName}'\n",
    "                                      and sku='{sku}'\n",
    "                                      and brand_id=(select brand_id from brands where brand_desc='{brand}' fetch first 1 rows only)\n",
    "                                      and product_desc\"\"\"\n",
    "            if cleansedDescription != None:\n",
    "              sql = sql + f\"='{cleansedDescription}'\"\n",
    "            else:\n",
    "              sql = sql + \" is null\"\n",
    "            sql = sql + f\"\"\"\n",
    "                                    fetch first 1 rows only\n",
    "                                )\n",
    "                      \"\"\"\n",
    "            print(sql)\n",
    "            \n",
    "            c.execute(sql)\n",
    "            record = c.fetchone()\n",
    "\n",
    "            if record == None:\n",
    "                  return None\n",
    "            \n",
    "            return record[0]"
   ]
  },
  {
   "cell_type": "code",
   "execution_count": null,
   "metadata": {},
   "outputs": [],
   "source": [
    "client = openai.OpenAI()\n",
    "\n",
    "counter = 0\n",
    "\n",
    "def create_embedding(productName, sku, price, brand, description, model):\n",
    "   global counter\n",
    "\n",
    "   text = \"\"\"'{productName}', '{sku}', {price}, '{brand}', '{description}'\"\"\"\n",
    "   text = text.replace(\"\\n\", \" \")\n",
    "\n",
    "   embedding = get_embedding_from_db(productName, sku, price, brand, description, model)\n",
    "   \n",
    "   if embedding != None:\n",
    "      return None\n",
    "\n",
    "   counter = counter + 1\n",
    "   if counter > 1:\n",
    "      return None\n",
    "\n",
    "   return client.embeddings.create(input = [text], model=model).data[0].embedding\n",
    "\n",
    "df['embeddingToStore'] = df.apply(lambda row: create_embedding(row[\"product_name\"], row[\"product_id\"], row[\"msrp\"], row[\"brand\"], row[\"description\"], model=PROVIDER_OPENAI_EMBEDDINGS_MODEL), axis=1)"
   ]
  },
  {
   "cell_type": "code",
   "execution_count": null,
   "metadata": {},
   "outputs": [],
   "source": [
    "embeddingsDF = df[df['embeddingToStore'].notnull()]\n",
    "print(\"Shape:\", embeddingsDF.shape)\n",
    "#print (\"Vector Length:\", str(len(embeddingsDF[0])))\n",
    "embeddingsDF.head()"
   ]
  },
  {
   "cell_type": "code",
   "execution_count": null,
   "metadata": {},
   "outputs": [],
   "source": [
    "embeddingsDF = df[df['embeddingToStore'].notnull()]\n",
    "print(\"Shape:\", embeddingsDF.shape)\n",
    "embeddingsDF.head()"
   ]
  },
  {
   "cell_type": "code",
   "execution_count": null,
   "metadata": {},
   "outputs": [],
   "source": [
    "with psycopg.connect(DB_CONNECTION_STRING) as db_connection:\n",
    "  with db_connection.cursor() as c:\n",
    "      c.executemany(\n",
    "          f\"\"\"\n",
    "              INSERT INTO product_embeddings\n",
    "              (\n",
    "                product_id,\n",
    "                engine,\n",
    "                model,\n",
    "                embedding\n",
    "              ) \n",
    "              VALUES\n",
    "              (\n",
    "                  (\n",
    "                      select product_id \n",
    "                      from products \n",
    "                      where product_name=%(product_name)s\n",
    "                        and sku=%(product_id)s\n",
    "                        and brand_id=(select brand_id from brands where brand_desc=%(brand)s fetch first 1 rows only)\n",
    "                        and product_desc=%(description)s\n",
    "                      fetch first 1 rows only\n",
    "                  ),\n",
    "                  '{PROVIDER_OPENAI}',\n",
    "                  '{PROVIDER_OPENAI_EMBEDDINGS_MODEL}',\n",
    "                  %(embeddingToStore)s\n",
    "              )\n",
    "          \"\"\",\n",
    "          embeddingsDF.to_dict(orient=\"records\"),\n",
    "      )"
   ]
  },
  {
   "cell_type": "code",
   "execution_count": null,
   "metadata": {},
   "outputs": [],
   "source": []
  }
 ],
 "metadata": {
  "kernelspec": {
   "display_name": "ai-product-catalog-service",
   "language": "python",
   "name": "python3"
  },
  "language_info": {
   "codemirror_mode": {
    "name": "ipython",
    "version": 3
   },
   "file_extension": ".py",
   "mimetype": "text/x-python",
   "name": "python",
   "nbconvert_exporter": "python",
   "pygments_lexer": "ipython3",
   "version": "3.12.4"
  }
 },
 "nbformat": 4,
 "nbformat_minor": 2
}
