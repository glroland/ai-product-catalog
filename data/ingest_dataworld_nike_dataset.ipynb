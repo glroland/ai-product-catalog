{
 "cells": [
  {
   "cell_type": "markdown",
   "metadata": {},
   "source": [
    "# Nike Shoe Data Ingestion Process"
   ]
  },
  {
   "cell_type": "markdown",
   "metadata": {},
   "source": [
    "This notebook downloads a Nike shoes data set from DataDotWorld and transforms it into one that is compatible with AI Product Catalog.  AI Product Catalog is built generically and supports different types of products and each product type can coexist in its repository.\n",
    "\n",
    "The process looks somewhat like the following:\n",
    "1. Download dataset\n",
    "2. Clean and transform\n",
    "3. Extract subcategories\n",
    "4. Store in DB (blending approach - merges with existing non-overlapping data sets)\n",
    "5. Implement and store embeddings in Vector DB\n",
    "\n",
    "Dataset specific tasks fall into this notebook with the generic data processing actions are deferred to the supporting AI Product Catalog Product Library."
   ]
  },
  {
   "cell_type": "markdown",
   "metadata": {},
   "source": [
    "## Initialization"
   ]
  },
  {
   "cell_type": "code",
   "execution_count": null,
   "metadata": {
    "tags": []
   },
   "outputs": [],
   "source": [
    "import datadotworld as dw\n",
    "import pandas as pd\n",
    "import os\n",
    "\n",
    "from product_dataset_lib import ProductDataset\n",
    "from product_dataset_lib import get_config_value"
   ]
  },
  {
   "cell_type": "code",
   "execution_count": null,
   "metadata": {},
   "outputs": [],
   "source": [
    "DATASET_NAME = 'data-hut/product-data-from-nike'\n",
    "\n",
    "CATEGORY_DESC = \"Shoes\"\n",
    "\n",
    "SENTENCE_TRANSFORMER_MODEL = \"sentence-transformers/all-mpnet-base-v2\""
   ]
  },
  {
   "cell_type": "code",
   "execution_count": null,
   "metadata": {},
   "outputs": [],
   "source": [
    "DB_HOST = get_config_value(\"DB_HOST\", \"127.0.0.1\")\n",
    "DB_PORT = get_config_value(\"DB_PORT\", \"5432\")\n",
    "DB_NAME = get_config_value(\"DB_NAME\", \"ai_product_catalog\")\n",
    "DB_USER = get_config_value(\"DB_USER\", \"ai_product_catalog\")\n",
    "DB_PASSWORD = get_config_value(\"DB_PASSWORD\", \"ai_product_catalog123\")\n",
    "\n",
    "DB_CONNECTION_STRING = f\"host={DB_HOST} port={DB_PORT} dbname={DB_NAME} user={DB_USER} password={DB_PASSWORD}\"\n",
    "print (\"DB_CONNECTION_STRING:\", DB_CONNECTION_STRING)"
   ]
  },
  {
   "cell_type": "markdown",
   "metadata": {},
   "source": [
    "## Download"
   ]
  },
  {
   "cell_type": "code",
   "execution_count": null,
   "metadata": {},
   "outputs": [],
   "source": [
    "product_data = dw.load_dataset(DATASET_NAME)\n",
    "product_data.describe()"
   ]
  },
  {
   "cell_type": "code",
   "execution_count": null,
   "metadata": {},
   "outputs": [],
   "source": [
    "df = product_data.dataframes[\"nike_2020_04_13\"]\n",
    "df = df.drop_duplicates()\n",
    "print (df.shape)\n",
    "df.head()"
   ]
  },
  {
   "cell_type": "code",
   "execution_count": null,
   "metadata": {},
   "outputs": [],
   "source": [
    "print (\"Shape = \" + str(df.shape))\n",
    "print (\"Number of unique Product IDs = \" + str(len(df['product_id'].drop_duplicates())))\n",
    "print (\"Maximum Length of Product ID Column = \" + str(df['product_id'].str.len().max()))\n",
    "print (\"Number of unique Brands = \" + str(len(df['brand'].drop_duplicates())))\n",
    "print (\"Maximum Length of Product Name Column = \" + str(df['product_name'].str.len().max()))\n",
    "print (\"Maximum Length of Product Description Column = \" + str(df['description'].str.len().max()))\n",
    "print (\"Maximum Length of Brand Column = \" + str(df['brand'].str.len().max()))"
   ]
  },
  {
   "cell_type": "markdown",
   "metadata": {},
   "source": [
    "## Transform"
   ]
  },
  {
   "cell_type": "code",
   "execution_count": null,
   "metadata": {},
   "outputs": [],
   "source": [
    "df['msrp'] = df['sale_price'].astype('float') / 100.0\n",
    "df['msrp']"
   ]
  },
  {
   "cell_type": "code",
   "execution_count": null,
   "metadata": {},
   "outputs": [],
   "source": [
    "df[\"category\"] = CATEGORY_DESC\n",
    "\n",
    "df[\"description\"].fillna('', inplace=True)"
   ]
  },
  {
   "cell_type": "markdown",
   "metadata": {},
   "source": [
    "## Process"
   ]
  },
  {
   "cell_type": "code",
   "execution_count": null,
   "metadata": {},
   "outputs": [],
   "source": [
    "product_dataset = ProductDataset(DATASET_NAME, \n",
    "                                DB_CONNECTION_STRING,\n",
    "                                SENTENCE_TRANSFORMER_MODEL)\n",
    "\n",
    "resultDF = product_dataset.import_df(df,\n",
    "                    {\n",
    "                        \"product_id\": product_dataset.ProductColumns.SKU, \n",
    "                        \"msrp\": product_dataset.ProductColumns.PRICE,\n",
    "                        \"brand\": product_dataset.ProductColumns.BRAND_DESC,\n",
    "                        \"category\": product_dataset.ProductColumns.CATEGORY_DESC,\n",
    "                        \"product_name\": product_dataset.ProductColumns.NAME,\n",
    "                        \"description\": product_dataset.ProductColumns.DESC\n",
    "                    }\n",
    "                )\n",
    "product_dataset.persist()\n",
    "product_dataset.load_embeddings()\n",
    "product_dataset.refresh_embeddings()\n",
    "product_dataset.persist_embeddings()\n",
    "\n",
    "print(resultDF.head())"
   ]
  },
  {
   "cell_type": "code",
   "execution_count": null,
   "metadata": {},
   "outputs": [],
   "source": []
  }
 ],
 "metadata": {
  "kernelspec": {
   "display_name": "Python 3 (ipykernel)",
   "language": "python",
   "name": "python3"
  },
  "language_info": {
   "codemirror_mode": {
    "name": "ipython",
    "version": 3
   },
   "file_extension": ".py",
   "mimetype": "text/x-python",
   "name": "python",
   "nbconvert_exporter": "python",
   "pygments_lexer": "ipython3",
   "version": "3.11.9"
  }
 },
 "nbformat": 4,
 "nbformat_minor": 4
}
