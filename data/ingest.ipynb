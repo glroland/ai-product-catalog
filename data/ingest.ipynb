{
 "cells": [
  {
   "cell_type": "code",
   "execution_count": 1,
   "metadata": {},
   "outputs": [],
   "source": [
    "import opendatasets as od\n",
    "import pandas as pd\n",
    "import psycopg2\n",
    "import psycopg2.extras as extras\n",
    "from psycopg2.extras import execute_values"
   ]
  },
  {
   "cell_type": "code",
   "execution_count": 2,
   "metadata": {},
   "outputs": [],
   "source": [
    "DB_NAME = \"ai_product_catalog\"\n",
    "DB_USER = \"ai_product_catalog\"\n",
    "DB_PASSWORD = \"ai_product_catalog123\"\n",
    "DB_HOST = \"127.0.0.1\"\n",
    "DB_PORT = \"5432\""
   ]
  },
  {
   "cell_type": "code",
   "execution_count": 3,
   "metadata": {},
   "outputs": [
    {
     "name": "stdout",
     "output_type": "stream",
     "text": [
      "Dataset URL: https://www.kaggle.com/datasets/sujaykapadnis/products-datasets\n",
      "Downloading products-datasets.zip to ./products-datasets\n"
     ]
    },
    {
     "name": "stderr",
     "output_type": "stream",
     "text": [
      "100%|██████████| 99.7k/99.7k [00:00<00:00, 1.94MB/s]"
     ]
    },
    {
     "name": "stdout",
     "output_type": "stream",
     "text": [
      "\n"
     ]
    },
    {
     "name": "stderr",
     "output_type": "stream",
     "text": [
      "\n"
     ]
    }
   ],
   "source": [
    "od.download(\"https://www.kaggle.com/datasets/sujaykapadnis/products-datasets\")"
   ]
  },
  {
   "cell_type": "code",
   "execution_count": 4,
   "metadata": {},
   "outputs": [
    {
     "data": {
      "text/html": [
       "<div>\n",
       "<style scoped>\n",
       "    .dataframe tbody tr th:only-of-type {\n",
       "        vertical-align: middle;\n",
       "    }\n",
       "\n",
       "    .dataframe tbody tr th {\n",
       "        vertical-align: top;\n",
       "    }\n",
       "\n",
       "    .dataframe thead th {\n",
       "        text-align: right;\n",
       "    }\n",
       "</style>\n",
       "<table border=\"1\" class=\"dataframe\">\n",
       "  <thead>\n",
       "    <tr style=\"text-align: right;\">\n",
       "      <th></th>\n",
       "      <th>S.No</th>\n",
       "      <th>BrandName</th>\n",
       "      <th>Product ID</th>\n",
       "      <th>Product Name</th>\n",
       "      <th>Brand Desc</th>\n",
       "      <th>Product Size</th>\n",
       "      <th>Currancy</th>\n",
       "      <th>MRP</th>\n",
       "      <th>SellPrice</th>\n",
       "      <th>Discount</th>\n",
       "      <th>Category</th>\n",
       "    </tr>\n",
       "  </thead>\n",
       "  <tbody>\n",
       "    <tr>\n",
       "      <th>0</th>\n",
       "      <td>1</td>\n",
       "      <td>4711</td>\n",
       "      <td>FR001</td>\n",
       "      <td>Cologne Fragrance</td>\n",
       "      <td>ekw eau de cologne 400 ml</td>\n",
       "      <td>Small</td>\n",
       "      <td>Rs.</td>\n",
       "      <td>3900</td>\n",
       "      <td>3120</td>\n",
       "      <td>20% off</td>\n",
       "      <td>Fragrance-Women</td>\n",
       "    </tr>\n",
       "    <tr>\n",
       "      <th>1</th>\n",
       "      <td>2</td>\n",
       "      <td>109f</td>\n",
       "      <td>DRW1</td>\n",
       "      <td>DRW1 - Westernwear-Women</td>\n",
       "      <td>womens v- neck short dress - yellow</td>\n",
       "      <td>Size:Medium,Small,X-Large,XX-Large</td>\n",
       "      <td>Rs.</td>\n",
       "      <td>1899</td>\n",
       "      <td>569</td>\n",
       "      <td>70% off</td>\n",
       "      <td>Westernwear-Women</td>\n",
       "    </tr>\n",
       "    <tr>\n",
       "      <th>2</th>\n",
       "      <td>3</td>\n",
       "      <td>109f</td>\n",
       "      <td>DRW2</td>\n",
       "      <td>DRW2 - Westernwear-Women</td>\n",
       "      <td>womens round neck solid top - black</td>\n",
       "      <td>Size:Large,Medium,Small,X-Large</td>\n",
       "      <td>Rs.</td>\n",
       "      <td>1499</td>\n",
       "      <td>599</td>\n",
       "      <td>60% off</td>\n",
       "      <td>Westernwear-Women</td>\n",
       "    </tr>\n",
       "    <tr>\n",
       "      <th>3</th>\n",
       "      <td>4</td>\n",
       "      <td>109f</td>\n",
       "      <td>DRW3</td>\n",
       "      <td>DRW3 - Westernwear-Women</td>\n",
       "      <td>womens round neck stripe shift dress - red</td>\n",
       "      <td>Size:Medium,Small</td>\n",
       "      <td>Rs.</td>\n",
       "      <td>1599</td>\n",
       "      <td>639</td>\n",
       "      <td>60% off</td>\n",
       "      <td>Westernwear-Women</td>\n",
       "    </tr>\n",
       "    <tr>\n",
       "      <th>4</th>\n",
       "      <td>5</td>\n",
       "      <td>109f</td>\n",
       "      <td>DRW4</td>\n",
       "      <td>DRW4 - Westernwear-Women</td>\n",
       "      <td>womens round neck solid high low top - black</td>\n",
       "      <td>Size:Large,Medium,Small,X-Large</td>\n",
       "      <td>Rs.</td>\n",
       "      <td>1199</td>\n",
       "      <td>479</td>\n",
       "      <td>60% off</td>\n",
       "      <td>Westernwear-Women</td>\n",
       "    </tr>\n",
       "  </tbody>\n",
       "</table>\n",
       "</div>"
      ],
      "text/plain": [
       "   S.No BrandName Product ID              Product Name  \\\n",
       "0     1      4711      FR001         Cologne Fragrance   \n",
       "1     2      109f       DRW1  DRW1 - Westernwear-Women   \n",
       "2     3      109f       DRW2  DRW2 - Westernwear-Women   \n",
       "3     4      109f       DRW3  DRW3 - Westernwear-Women   \n",
       "4     5      109f       DRW4  DRW4 - Westernwear-Women   \n",
       "\n",
       "                                     Brand Desc  \\\n",
       "0                     ekw eau de cologne 400 ml   \n",
       "1           womens v- neck short dress - yellow   \n",
       "2           womens round neck solid top - black   \n",
       "3    womens round neck stripe shift dress - red   \n",
       "4  womens round neck solid high low top - black   \n",
       "\n",
       "                         Product Size Currancy   MRP  SellPrice Discount  \\\n",
       "0                               Small      Rs.  3900       3120  20% off   \n",
       "1  Size:Medium,Small,X-Large,XX-Large      Rs.  1899        569  70% off   \n",
       "2     Size:Large,Medium,Small,X-Large      Rs.  1499        599  60% off   \n",
       "3                   Size:Medium,Small      Rs.  1599        639  60% off   \n",
       "4     Size:Large,Medium,Small,X-Large      Rs.  1199        479  60% off   \n",
       "\n",
       "            Category  \n",
       "0    Fragrance-Women  \n",
       "1  Westernwear-Women  \n",
       "2  Westernwear-Women  \n",
       "3  Westernwear-Women  \n",
       "4  Westernwear-Women  "
      ]
     },
     "execution_count": 4,
     "metadata": {},
     "output_type": "execute_result"
    }
   ],
   "source": [
    "df = pd.read_csv('products-datasets/Message Group - Product.csv')\n",
    "df.head()"
   ]
  },
  {
   "cell_type": "code",
   "execution_count": 5,
   "metadata": {},
   "outputs": [
    {
     "name": "stdout",
     "output_type": "stream",
     "text": [
      "Shape = (4566, 11)\n",
      "Number of unique Product IDs = 4566\n",
      "Maximum Length of Product ID Column = 24\n",
      "Number of unique Brands = 57\n",
      "Maximum Length of Brand Column = 23\n",
      "Maximum Length of Product Name Column = 43\n",
      "Maximum Length of Brand Description Column = 120\n",
      "Maximum Length of Product Size Column = 87\n",
      "Number of unique Categories = 7\n",
      "Maximum Length of Category Column = 24\n"
     ]
    }
   ],
   "source": [
    "print (\"Shape = \" + str(df.shape))\n",
    "print (\"Number of unique Product IDs = \" + str(len(df['Product ID'].drop_duplicates())))\n",
    "print (\"Maximum Length of Product ID Column = \" + str(df['Product ID'].str.len().max()))\n",
    "print (\"Number of unique Brands = \" + str(len(df['BrandName'].drop_duplicates())))\n",
    "print (\"Maximum Length of Brand Column = \" + str(df['BrandName'].str.len().max()))\n",
    "print (\"Maximum Length of Product Name Column = \" + str(df['Product Name'].str.len().max()))\n",
    "print (\"Maximum Length of Brand Description Column = \" + str(df['Brand Desc'].str.len().max()))\n",
    "print (\"Maximum Length of Product Size Column = \" + str(df['Product Size'].str.len().max()))\n",
    "print (\"Number of unique Categories = \" + str(len(df['Category'].drop_duplicates())))\n",
    "print (\"Maximum Length of Category Column = \" + str(df['Category'].str.len().max()))\n"
   ]
  },
  {
   "cell_type": "code",
   "execution_count": 6,
   "metadata": {},
   "outputs": [
    {
     "name": "stdout",
     "output_type": "stream",
     "text": [
      "(7, 1)\n"
     ]
    },
    {
     "data": {
      "text/html": [
       "<div>\n",
       "<style scoped>\n",
       "    .dataframe tbody tr th:only-of-type {\n",
       "        vertical-align: middle;\n",
       "    }\n",
       "\n",
       "    .dataframe tbody tr th {\n",
       "        vertical-align: top;\n",
       "    }\n",
       "\n",
       "    .dataframe thead th {\n",
       "        text-align: right;\n",
       "    }\n",
       "</style>\n",
       "<table border=\"1\" class=\"dataframe\">\n",
       "  <thead>\n",
       "    <tr style=\"text-align: right;\">\n",
       "      <th></th>\n",
       "      <th>Category</th>\n",
       "    </tr>\n",
       "  </thead>\n",
       "  <tbody>\n",
       "    <tr>\n",
       "      <th>0</th>\n",
       "      <td>Fragrance-Women</td>\n",
       "    </tr>\n",
       "    <tr>\n",
       "      <th>1</th>\n",
       "      <td>Westernwear-Women</td>\n",
       "    </tr>\n",
       "    <tr>\n",
       "      <th>117</th>\n",
       "      <td>Indianwear-Women</td>\n",
       "    </tr>\n",
       "    <tr>\n",
       "      <th>160</th>\n",
       "      <td>Lingerie&amp;Nightwear-Women</td>\n",
       "    </tr>\n",
       "    <tr>\n",
       "      <th>166</th>\n",
       "      <td>Jewellery-Women</td>\n",
       "    </tr>\n",
       "  </tbody>\n",
       "</table>\n",
       "</div>"
      ],
      "text/plain": [
       "                     Category\n",
       "0             Fragrance-Women\n",
       "1           Westernwear-Women\n",
       "117          Indianwear-Women\n",
       "160  Lingerie&Nightwear-Women\n",
       "166           Jewellery-Women"
      ]
     },
     "execution_count": 6,
     "metadata": {},
     "output_type": "execute_result"
    }
   ],
   "source": [
    "categoriesDF = pd.DataFrame({ \"Category\": df['Category'].drop_duplicates() })\n",
    "print(categoriesDF.shape)\n",
    "categoriesDF.head()"
   ]
  },
  {
   "cell_type": "code",
   "execution_count": 7,
   "metadata": {},
   "outputs": [],
   "source": [
    "with psycopg2.connect(database=DB_NAME, user=DB_USER, password=DB_PASSWORD, host=DB_HOST, port=DB_PORT) as db_connection:\n",
    "  with db_connection.cursor() as c:\n",
    "      execute_values(\n",
    "          cur = c,\n",
    "          sql = \"\"\"\n",
    "                  INSERT INTO categories(category_desc) VALUES %s\n",
    "                \"\"\",\n",
    "          argslist = categoriesDF.to_dict(orient=\"records\"),\n",
    "          template = \"\"\"\n",
    "                          ( %(Category)s )\n",
    "                    \"\"\"\n",
    "      )\n"
   ]
  },
  {
   "cell_type": "code",
   "execution_count": 8,
   "metadata": {},
   "outputs": [
    {
     "name": "stdout",
     "output_type": "stream",
     "text": [
      "(57, 1)\n"
     ]
    },
    {
     "data": {
      "text/html": [
       "<div>\n",
       "<style scoped>\n",
       "    .dataframe tbody tr th:only-of-type {\n",
       "        vertical-align: middle;\n",
       "    }\n",
       "\n",
       "    .dataframe tbody tr th {\n",
       "        vertical-align: top;\n",
       "    }\n",
       "\n",
       "    .dataframe thead th {\n",
       "        text-align: right;\n",
       "    }\n",
       "</style>\n",
       "<table border=\"1\" class=\"dataframe\">\n",
       "  <thead>\n",
       "    <tr style=\"text-align: right;\">\n",
       "      <th></th>\n",
       "      <th>Brand</th>\n",
       "    </tr>\n",
       "  </thead>\n",
       "  <tbody>\n",
       "    <tr>\n",
       "      <th>0</th>\n",
       "      <td>4711</td>\n",
       "    </tr>\n",
       "    <tr>\n",
       "      <th>1</th>\n",
       "      <td>109f</td>\n",
       "    </tr>\n",
       "    <tr>\n",
       "      <th>115</th>\n",
       "      <td>18.21 man made</td>\n",
       "    </tr>\n",
       "    <tr>\n",
       "      <th>116</th>\n",
       "      <td>aarke</td>\n",
       "    </tr>\n",
       "    <tr>\n",
       "      <th>161</th>\n",
       "      <td>abercrombie &amp; fitch</td>\n",
       "    </tr>\n",
       "  </tbody>\n",
       "</table>\n",
       "</div>"
      ],
      "text/plain": [
       "                   Brand\n",
       "0                   4711\n",
       "1                   109f\n",
       "115       18.21 man made\n",
       "116                aarke\n",
       "161  abercrombie & fitch"
      ]
     },
     "execution_count": 8,
     "metadata": {},
     "output_type": "execute_result"
    }
   ],
   "source": [
    "brandsDF = pd.DataFrame({ \"Brand\": df['BrandName'].drop_duplicates() })\n",
    "print(brandsDF.shape)\n",
    "brandsDF.head()"
   ]
  },
  {
   "cell_type": "code",
   "execution_count": 9,
   "metadata": {},
   "outputs": [],
   "source": [
    "with psycopg2.connect(database=DB_NAME, user=DB_USER, password=DB_PASSWORD, host=DB_HOST, port=DB_PORT) as db_connection:\n",
    "  with db_connection.cursor() as c:\n",
    "      execute_values(\n",
    "          cur = c,\n",
    "          sql = \"\"\"\n",
    "                  INSERT INTO brands(brand_desc) VALUES %s\n",
    "                \"\"\",\n",
    "          argslist = brandsDF.to_dict(orient=\"records\"),\n",
    "          template = \"\"\"\n",
    "                          ( %(Brand)s )\n",
    "                    \"\"\"\n",
    "      )"
   ]
  },
  {
   "cell_type": "code",
   "execution_count": 10,
   "metadata": {},
   "outputs": [
    {
     "data": {
      "text/plain": [
       "0       3900.0\n",
       "1       1899.0\n",
       "2       1499.0\n",
       "3       1599.0\n",
       "4       1199.0\n",
       "         ...  \n",
       "4561    1699.0\n",
       "4562    1299.0\n",
       "4563    1299.0\n",
       "4564    1399.0\n",
       "4565    2499.0\n",
       "Name: MRPFloat, Length: 4566, dtype: float64"
      ]
     },
     "execution_count": 10,
     "metadata": {},
     "output_type": "execute_result"
    }
   ],
   "source": [
    "df['MRPFloat'] = df['MRP'].replace(['NaN', '#REF!'], None).astype('float')\n",
    "df['MRPFloat']"
   ]
  },
  {
   "cell_type": "code",
   "execution_count": 11,
   "metadata": {},
   "outputs": [],
   "source": [
    "with psycopg2.connect(database=DB_NAME, user=DB_USER, password=DB_PASSWORD, host=DB_HOST, port=DB_PORT) as db_connection:\n",
    "  with db_connection.cursor() as c:\n",
    "      execute_values(\n",
    "          cur = c,\n",
    "          sql = \"\"\"\n",
    "                  INSERT INTO products\n",
    "                  (\n",
    "                    sku, \n",
    "                    brand_id,\n",
    "                    product_name,\n",
    "                    product_desc,\n",
    "                    size,\n",
    "                    msrp,\n",
    "                    category_id\n",
    "                  ) VALUES %s\n",
    "                \"\"\",\n",
    "          argslist = df.to_dict(orient=\"records\"),\n",
    "          template = \"\"\"\n",
    "                        (\n",
    "                            %(Product ID)s,\n",
    "                            (select brand_id from brands where brand_desc=%(BrandName)s),\n",
    "                            %(Product Name)s,\n",
    "                            %(Brand Desc)s,\n",
    "                            %(Product Size)s,\n",
    "                            cast(%(MRPFloat)s as double precision),\n",
    "                            (select category_id from categories where category_desc=%(Category)s)\n",
    "                        )\n",
    "                    \"\"\"\n",
    "      )"
   ]
  },
  {
   "cell_type": "code",
   "execution_count": null,
   "metadata": {},
   "outputs": [],
   "source": []
  }
 ],
 "metadata": {
  "kernelspec": {
   "display_name": "ai-product-catalog-service",
   "language": "python",
   "name": "python3"
  },
  "language_info": {
   "codemirror_mode": {
    "name": "ipython",
    "version": 3
   },
   "file_extension": ".py",
   "mimetype": "text/x-python",
   "name": "python",
   "nbconvert_exporter": "python",
   "pygments_lexer": "ipython3",
   "version": "3.12.4"
  }
 },
 "nbformat": 4,
 "nbformat_minor": 2
}
